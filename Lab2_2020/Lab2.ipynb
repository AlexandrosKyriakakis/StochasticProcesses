{
 "cells": [
  {
   "cell_type": "markdown",
   "metadata": {},
   "source": [
    "## Ασκήσεις 35-37\n",
    "\n",
    "Αυτή η άσκηση εκτιμά με τη μέθοδο Monte Carlo την πιθανότητα της **Άσκησης 19** για $p = \\frac{1}{6}$.\n",
    "\n",
    "Για να προσομοιώσουμε το πρόβλημα θα χρειαστούμε:\n",
    "\n",
    "1. Να φορτώσουμε τον προσομοιωτή `markov_chain` από το αρχείο `simple_markov_chain_lib.py`\n",
    "2. Να δημιουργήσουμε τον πίνακα πιθανοτήτων μετάβασης και την αρχική κατανομή (βλέπε [εργαστήριο 1])\n",
    "3. Να δημιουργήσουμε μια νέα αλυσίδα\n",
    "\n",
    "Αυτά τα βήματα υλοποιούνται στο παρακάτω κελί κώδικα:"
   ]
  },
  {
   "cell_type": "code",
   "execution_count": null,
   "metadata": {},
   "outputs": [],
   "source": [
    "import random\n",
    "random.seed(2018)  # for reproducibility\n",
    "from simple_markov_chain_lib import markov_chain\n",
    "\n",
    "p = 1/6\n",
    "\n",
    "# A dictionary for the initial distibution. \n",
    "# We prescribe the initial distribution\n",
    "init_probs = {1: 1.0} \n",
    " \n",
    "# A dictionary for the transition probability  matrix. \n",
    "# Every state-key corresponds to a list with tuples of (Next_State,Probability) \n",
    "markov_table = {\n",
    "    1: {2: 1.},\n",
    "    2: {2: 2/3, 3: 1/3},\n",
    "    3: {1: p, 2: 1-p}\n",
    "}\n",
    " \n",
    "# Ok... we are ready know\n",
    "# Let's construct a Markov Chain. So let's call the constructor\n",
    "mc = markov_chain(markov_table, init_probs)"
   ]
  },
  {
   "cell_type": "markdown",
   "metadata": {},
   "source": [
    "Τώρα που έχουμε την αλυσίδα **`mc`** μπορούμε να την προσομοιώσουμε.\n",
    "\n",
    "Συγκεκριμένα, θα εκτιμήσουμε την πιθανότητα $\\mathbb{P}_1[X_{40}=1]=\\mathbb{P}\\left[X_{40} = 1 \\mid X_0 = 1 \\right]$. \n",
    "Για να το κάνουμε αυτό, θα τρέξουμε την αλυσίδα πολλές φορές (παράμετρος `N`) ξεκινώντας πάντα από την κατάσταση `1` και θα μετρήσουμε σε πόσες από αυτές η αλυσίδα βρέθηκε στην κατάσταση `1` μετά από `40` βήματα (παράμετρος `steps`), δηλαδή πόσες φορές συνέβη το ενδεχόμενο $\\{X_{40}=1\\}$. Κάθε φορά που εκτελούμε τον βρόχο **`for`** παρακάτω παίρνουμε ένα ανεξάρτητο δείγμα της τ.μ. $Y$ που έχει την τιμή 1, αν $X_{40}=1$, και την τιμή 0, αν $X_{40}\\neq 1$. Ο νόμος των μεγάλων αριθμών δίνει ότι\n",
    "$$ \\lim_{N\\to\\infty}\\frac{Y_1+\\cdots+Y_N}{N}=\\mathbb{E}_1[Y]=\\mathbb{P}_1[X_{40}=1].$$\n",
    "Επομένως, όταν το `N` είναι μεγάλο, το ποσοστό των φορών στις οποίες συνέβη το ενδεχόμενο $\\{X_{40}=1\\}$ είναι μια καλή εκτίμηση της πιθανότητας $\\mathbb{P}_1[X_{40}=1]$. Το ποσοστό αυτό $\\hat{p}_N$ που ονομάζεται `phat` στον παρακάτω κώδικα είναι όπως λέμη η εκτιμήτρια Monte Carlo της πιθανότητας $\\mathbb{P}_1[X_{40}=1]$."
   ]
  },
  {
   "cell_type": "code",
   "execution_count": null,
   "metadata": {},
   "outputs": [],
   "source": [
    "## Experiment parameters\n",
    "N = 1000     # number of samples\n",
    "steps = 40   # the target time\n",
    "counter = 0  # to count the number of times the event {X_40  = 1} occurs\n",
    "\n",
    "## Simulation\n",
    "for i in range(N):\n",
    "    mc.start()  # new experiment\n",
    "    for j in range(steps):  mc.move()\n",
    "    if mc.running_state == 1:  counter += 1\n",
    "\n",
    "phat = counter / N\n",
    "\n",
    "print(\n",
    "    \"\"\"\n",
    "    We executed {0} times the first {1} steps of the markov chain\n",
    "    and we captured the running state in state one {2} times.\n",
    "    So we estimate the Pr[X_{1} = 1 | X_0 = 1] to be {3}\n",
    "    \"\"\".format(N, steps, counter, phat)\n",
    ")\n"
   ]
  },
  {
   "cell_type": "markdown",
   "metadata": {},
   "source": [
    "Σε αντίθεση με τις αριθμητικές εκτιμήτριες που έχετε ενδεχομένως δει στην Αριθμητική Ανάλυση, η $\\hat{p}_N$ είναι μια τυχαία μεταβλητή. Για να το διαπιστώσετε, ξανατρέξτε το προηγούμενο κελί μερικές (10) φορές. Κάντε το ίδιο για `N=100.000` (100 χιλιάδες) επαναλήψεις. Παρατηρήστε αν τώρα διαφέρουν περισσότερο ή λιγότερο μεταξύ τους τα αποτελέσματα σε σχέση με την περίπτωση `N=1.000`;\n",
    "\n",
    "Το επόμενο κομμάτι κώδικα δημιουργεί μια λίστα 100 δειγμάτων από την τυπική κανονική κατανομή και υπολογίζει τη δειγματική μέση τιμή και διασπορά. "
   ]
  },
  {
   "cell_type": "code",
   "execution_count": null,
   "metadata": {},
   "outputs": [],
   "source": [
    "import statistics as stat ## import the library statistics. We will use it to compute the mean and variance of our list\n",
    "estimates=[] ## create the empty list estimates.\n",
    "for i in range(100): estimates.append(random.gauss(0,1)) \n",
    "    ## in each of 100 runs generate a sample from the standard normal distribution and append it to the list estimates\n",
    "print(\n",
    "    \"\"\" \n",
    "    The sample mean is {0:.5f} and the sample variance is {1:.5f}\n",
    "    \"\"\".format(stat.mean(estimates), stat.variance(estimates))\n",
    ")\n",
    "    ## compute the SAMPLE mean and variance of the elements in our list keeping only 5 decimal digits"
   ]
  },
  {
   "cell_type": "markdown",
   "metadata": {},
   "source": [
    "## Παραδοτέα\n",
    "\n",
    "Εμπνευστείτε από τους προηγούμενους κώδικες και γράψτε σε ένα καινούργιο Jupyter Notebook έναν ολοκληρωμένο κώδικα σε Python που θα κάνει $M=50$ εκτιμήσεις Monte Carlo της πιθανότητας $\\mathbb{P}_1[X_{20}=1]$ για την αλυσίδα της **Άσκησης 19** και θα υπολογίζει τη δειγματική μέση τιμή και διασπορά αυτών των εκτιμήσεων. Σε ένα κελί κειμένου παρακάτω απαντήστε τις εξής ερωτήσεις.\n",
    "\n",
    "1. Ποια είναι ο μέσος όρος των $Μ$ εκτιμήσεων της πιθανότητας $\\mathbb{P}_1[X_{20}=1]$ όταν $N=200$ και ποιος όταν $N=20.000$;\n",
    "2. Είναι αυτά τα αποτελέσματα κοντά στη θεωρητική τιμή που έχετε υπολογίσει;\n",
    "3. Ποια είναι η δειγματική διασπορά των $M$ εκτιμήσεων στις δύο περιπτώσεις;\n",
    "4. Αλλάζει ουσιαστικά η εκτίμησή σας, αν η αλυσίδα ξεκινάει από την κατάσταση `3` (τρίτη γραμμή του πίνακα);"
   ]
  },
  {
   "cell_type": "markdown",
   "metadata": {},
   "source": [
    "## Άσκηση 40\n",
    "\n",
    "Το παρακάτω διάγραμμα δείχνει τις δυνατές μεταβάσεις ενός γκέιμ τένις. "
   ]
  },
  {
   "cell_type": "markdown",
   "metadata": {},
   "source": [
    "![Markov Chain of Tennis Game](https://www.wolfram.com/mathematica/new-in-9/markov-chains-and-queues/HTMLImages.en/analyze-a-tennis-game/O_23.png)"
   ]
  },
  {
   "cell_type": "markdown",
   "metadata": {},
   "source": [
    "## Παραδοτέο \n",
    "\n",
    "Στη συνέχεια του Notebook που φτιάξατε για την προηγούμενη άσκηση, γράψτε έναν κώδικα σε Python που εκτιμά με *Monte Carlo* την πιθανότητα νίκης του παίκτη που σερβίρει (`Player A`), αν η πιθανότητα που έχει να κερδίσει κάθε πόντο είναι $p = 0,6$. "
   ]
  }
 ],
 "metadata": {
  "kernelspec": {
   "display_name": "Python 3",
   "language": "python",
   "name": "python3"
  },
  "language_info": {
   "codemirror_mode": {
    "name": "ipython",
    "version": 3
   },
   "file_extension": ".py",
   "mimetype": "text/x-python",
   "name": "python",
   "nbconvert_exporter": "python",
   "pygments_lexer": "ipython3",
   "version": "3.6.4"
  }
 },
 "nbformat": 4,
 "nbformat_minor": 2
}
