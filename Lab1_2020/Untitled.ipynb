{
 "cells": [
  {
   "cell_type": "code",
   "execution_count": 2,
   "metadata": {},
   "outputs": [
    {
     "ename": "ModuleNotFoundError",
     "evalue": "No module named 'networkx'",
     "output_type": "error",
     "traceback": [
      "\u001b[0;31m---------------------------------------------------------------------------\u001b[0m",
      "\u001b[0;31mModuleNotFoundError\u001b[0m                       Traceback (most recent call last)",
      "\u001b[0;32m<ipython-input-2-14920823b859>\u001b[0m in \u001b[0;36m<module>\u001b[0;34m\u001b[0m\n\u001b[1;32m      1\u001b[0m \u001b[0;31m#!pip3 install networkx\u001b[0m\u001b[0;34m\u001b[0m\u001b[0;34m\u001b[0m\u001b[0;34m\u001b[0m\u001b[0m\n\u001b[0;32m----> 2\u001b[0;31m \u001b[0;32mfrom\u001b[0m \u001b[0msimple_markov_chain_lib\u001b[0m \u001b[0;32mimport\u001b[0m \u001b[0mmarkov_chain\u001b[0m  \u001b[0;31m# import markov chain simulator\u001b[0m\u001b[0;34m\u001b[0m\u001b[0;34m\u001b[0m\u001b[0m\n\u001b[0m\u001b[1;32m      3\u001b[0m \u001b[0mrooms\u001b[0m \u001b[0;34m=\u001b[0m \u001b[0;34m[\u001b[0m\u001b[0;34m\"Kitchen\"\u001b[0m\u001b[0;34m,\u001b[0m \u001b[0;34m\"Library\"\u001b[0m\u001b[0;34m,\u001b[0m \u001b[0;34m\"Livingroom\"\u001b[0m\u001b[0;34m,\u001b[0m \u001b[0;34m\"Bedroom\"\u001b[0m\u001b[0;34m,\u001b[0m \u001b[0;34m\"Bathroom\"\u001b[0m\u001b[0;34m]\u001b[0m\u001b[0;34m\u001b[0m\u001b[0;34m\u001b[0m\u001b[0m\n\u001b[1;32m      4\u001b[0m \u001b[0;31m# Transition Table\u001b[0m\u001b[0;34m\u001b[0m\u001b[0;34m\u001b[0m\u001b[0;34m\u001b[0m\u001b[0m\n\u001b[1;32m      5\u001b[0m markov_table = {\n",
      "\u001b[0;32m~/Desktop/Profiteus/NTUA/Στοχαστικές Διαδικασίες/Lab1_2020/simple_markov_chain_lib.py\u001b[0m in \u001b[0;36m<module>\u001b[0;34m\u001b[0m\n\u001b[1;32m      2\u001b[0m \u001b[0;32mfrom\u001b[0m \u001b[0mrandom\u001b[0m \u001b[0;32mimport\u001b[0m \u001b[0mrandom\u001b[0m\u001b[0;34m\u001b[0m\u001b[0;34m\u001b[0m\u001b[0m\n\u001b[1;32m      3\u001b[0m \u001b[0;34m\u001b[0m\u001b[0m\n\u001b[0;32m----> 4\u001b[0;31m \u001b[0;32mimport\u001b[0m \u001b[0mnetworkx\u001b[0m \u001b[0;32mas\u001b[0m \u001b[0mnx\u001b[0m  \u001b[0;31m# get communication classes\u001b[0m\u001b[0;34m\u001b[0m\u001b[0;34m\u001b[0m\u001b[0m\n\u001b[0m\u001b[1;32m      5\u001b[0m \u001b[0;32mimport\u001b[0m \u001b[0mnumpy\u001b[0m \u001b[0;32mas\u001b[0m \u001b[0mnp\u001b[0m\u001b[0;34m\u001b[0m\u001b[0;34m\u001b[0m\u001b[0m\n\u001b[1;32m      6\u001b[0m \u001b[0;32mfrom\u001b[0m \u001b[0mscipy\u001b[0m\u001b[0;34m.\u001b[0m\u001b[0msparse\u001b[0m \u001b[0;32mimport\u001b[0m \u001b[0mcsr_matrix\u001b[0m\u001b[0;34m\u001b[0m\u001b[0;34m\u001b[0m\u001b[0m\n",
      "\u001b[0;31mModuleNotFoundError\u001b[0m: No module named 'networkx'"
     ]
    }
   ],
   "source": [
    "#!pip3 install networkx\n",
    "from simple_markov_chain_lib import markov_chain  # import markov chain simulator\n",
    "rooms = [\"Kitchen\", \"Library\", \"Livingroom\", \"Bedroom\", \"Bathroom\"]\n",
    "# Transition Table\n",
    "markov_table = {\n",
    "    rooms[0]: {rooms[1]: .5, rooms[2]: .5},  \n",
    "    rooms[1]: {rooms[0]: .5, rooms[2]: .5},\n",
    "    rooms[2]: {rooms[0]: .25, rooms[1]: .25, rooms[3]: .25, rooms[4]: .25, },\n",
    "    rooms[3]: {rooms[2]: 1.},\n",
    "    rooms[4]: {rooms[2]: 1.}\n",
    "}\n",
    "\n",
    "# Initial Distribution\n",
    "init_dist = {rooms[3]: 1.}  # we start from state 0 with probability 1\n",
    "\n",
    "mc = markov_chain(markov_table, init_dist)\n",
    "counterKitchen = 0\n",
    "counterBed = 0\n",
    "mc.start()\n",
    "print(\"At time {} the chain is in state {}\".format(mc.steps, mc.running_state))\n",
    "N = 20\n",
    "#N = 1000000\n",
    "for i in range(N):\n",
    "    mc.move()\n",
    "    if (mc.running_state == \"Kitchen\"): counterKitchen += 1\n",
    "    if (mc.running_state == \"Bedroom\"): counterBed += 1\n",
    "    print(\"At time {} the chain is in state {}\".format(mc.steps, mc.running_state))\n",
    "print(\"P[x = Kitchen] = \",counterKitchen/N,\" P[x = Bedroom] = \", counterBed/N)\n",
    "\n",
    "\n"
   ]
  },
  {
   "cell_type": "code",
   "execution_count": null,
   "metadata": {},
   "outputs": [],
   "source": []
  },
  {
   "cell_type": "code",
   "execution_count": null,
   "metadata": {},
   "outputs": [],
   "source": []
  }
 ],
 "metadata": {
  "kernelspec": {
   "display_name": "Python 3",
   "language": "python",
   "name": "python3"
  },
  "language_info": {
   "codemirror_mode": {
    "name": "ipython",
    "version": 3
   },
   "file_extension": ".py",
   "mimetype": "text/x-python",
   "name": "python",
   "nbconvert_exporter": "python",
   "pygments_lexer": "ipython3",
   "version": "3.7.6"
  }
 },
 "nbformat": 4,
 "nbformat_minor": 4
}
