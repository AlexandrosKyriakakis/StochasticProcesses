{
  "nbformat": 4,
  "nbformat_minor": 0,
  "metadata": {
    "kernelspec": {
      "display_name": "Python 3",
      "language": "python",
      "name": "python3"
    },
    "language_info": {
      "codemirror_mode": {
        "name": "ipython",
        "version": 3
      },
      "file_extension": ".py",
      "mimetype": "text/x-python",
      "name": "python",
      "nbconvert_exporter": "python",
      "pygments_lexer": "ipython3",
      "version": "3.7.6"
    },
    "colab": {
      "name": "Lab01.ipynb",
      "provenance": [],
      "collapsed_sections": []
    }
  },
  "cells": [
    {
      "cell_type": "code",
      "metadata": {
        "id": "-iQ9BDSbFVmR",
        "colab_type": "code",
        "colab": {
          "base_uri": "https://localhost:8080/",
          "height": 425
        },
        "outputId": "48977fdc-21c8-4ab6-84dc-ecee6bb878b3"
      },
      "source": [
        "from simple_markov_chain_lib import markov_chain  # import markov chain simulator\n",
        "rooms = [\"Kitchen\", \"Library\", \"Livingroom\", \"Bedroom\", \"Bathroom\"]\n",
        "# Transition Table\n",
        "markov_table = {\n",
        "    rooms[0]: {rooms[1]: .5, rooms[2]: .5},  \n",
        "    rooms[1]: {rooms[0]: .5, rooms[2]: .5},\n",
        "    rooms[2]: {rooms[0]: .25, rooms[1]: .25, rooms[3]: .25, rooms[4]: .25, },\n",
        "    rooms[3]: {rooms[2]: 1.},\n",
        "    rooms[4]: {rooms[2]: 1.}\n",
        "}\n",
        "\n",
        "# Initial Distribution\n",
        "init_dist = {rooms[3]: 1.}  # we start from state 0 with probability 1\n",
        "\n",
        "mc = markov_chain(markov_table, init_dist)\n",
        "counterKitchen = 0\n",
        "counterBed = 0\n",
        "mc.start()\n",
        "print(\"At time {} the chain is in state {}\".format(mc.steps, mc.running_state))\n",
        "N = 20\n",
        "#N = 1000000\n",
        "for i in range(N):\n",
        "    mc.move()\n",
        "    if (mc.running_state == \"Kitchen\"): counterKitchen += 1\n",
        "    if (mc.running_state == \"Bedroom\"): counterBed += 1\n",
        "    print(\"At time {} the chain is in state {}\".format(mc.steps, mc.running_state))\n",
        "\n",
        "#Testing Probs\n",
        "print(\"\\nTest\\nP[x = Kitchen] = \",counterKitchen/N,\", P[x = Bedroom] = \", counterBed/N)\n",
        "\n",
        "\n"
      ],
      "execution_count": 1,
      "outputs": [
        {
          "output_type": "stream",
          "text": [
            "At time 0 the chain is in state Bedroom\n",
            "At time 1 the chain is in state Livingroom\n",
            "At time 2 the chain is in state Kitchen\n",
            "At time 3 the chain is in state Livingroom\n",
            "At time 4 the chain is in state Kitchen\n",
            "At time 5 the chain is in state Livingroom\n",
            "At time 6 the chain is in state Bedroom\n",
            "At time 7 the chain is in state Livingroom\n",
            "At time 8 the chain is in state Library\n",
            "At time 9 the chain is in state Livingroom\n",
            "At time 10 the chain is in state Library\n",
            "At time 11 the chain is in state Kitchen\n",
            "At time 12 the chain is in state Library\n",
            "At time 13 the chain is in state Livingroom\n",
            "At time 14 the chain is in state Library\n",
            "At time 15 the chain is in state Kitchen\n",
            "At time 16 the chain is in state Livingroom\n",
            "At time 17 the chain is in state Bedroom\n",
            "At time 18 the chain is in state Livingroom\n",
            "At time 19 the chain is in state Bathroom\n",
            "At time 20 the chain is in state Livingroom\n",
            "\n",
            "Test\n",
            "P[x = Kitchen] =  0.2 , P[x = Bedroom] =  0.1\n"
          ],
          "name": "stdout"
        }
      ]
    },
    {
      "cell_type": "markdown",
      "metadata": {
        "id": "2cDHJ5mTGe0G",
        "colab_type": "text"
      },
      "source": [
        "#Lorem Ipsum\n",
        "\n",
        "Lorem ipsum dolor sit amet, consectetur adipiscing elit. Sed eu accumsan elit. In a efficitur ex. Sed sit amet enim dolor. In hac habitasse platea dictumst. Aenean eget ligula id erat luctus tincidunt. Morbi tellus enim, consectetur ut nibh quis, blandit posuere ligula. Integer nulla felis, aliquet non blandit quis, venenatis ut orci. Aliquam bibendum aliquet euismod. Nullam accumsan congue consequat. Vivamus fermentum libero faucibus odio blandit, quis pretium\n",
        "quam ultricies.\n",
        "\n"
      ]
    }
  ]
}