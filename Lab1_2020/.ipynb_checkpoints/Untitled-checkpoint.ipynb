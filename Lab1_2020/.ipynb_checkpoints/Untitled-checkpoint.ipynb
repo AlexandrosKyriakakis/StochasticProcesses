{
 "cells": [
  {
   "cell_type": "code",
   "execution_count": null,
   "metadata": {},
   "outputs": [
    {
     "name": "stdout",
     "output_type": "stream",
     "text": [
      "Password:"
     ]
    }
   ],
   "source": [
    "!sudo pip3 install networkx\n",
    "from simple_markov_chain_lib import markov_chain  # import markov chain simulator\n",
    "rooms = [\"Kitchen\", \"Library\", \"Livingroom\", \"Bedroom\", \"Bathroom\"]\n",
    "# Transition Table\n",
    "markov_table = {\n",
    "    rooms[0]: {rooms[1]: .5, rooms[2]: .5},  \n",
    "    rooms[1]: {rooms[0]: .5, rooms[2]: .5},\n",
    "    rooms[2]: {rooms[0]: .25, rooms[1]: .25, rooms[3]: .25, rooms[4]: .25, },\n",
    "    rooms[3]: {rooms[2]: 1.},\n",
    "    rooms[4]: {rooms[2]: 1.}\n",
    "}\n",
    "\n",
    "# Initial Distribution\n",
    "init_dist = {rooms[3]: 1.}  # we start from state 0 with probability 1\n",
    "\n",
    "mc = markov_chain(markov_table, init_dist)\n",
    "counterKitchen = 0\n",
    "counterBed = 0\n",
    "mc.start()\n",
    "print(\"At time {} the chain is in state {}\".format(mc.steps, mc.running_state))\n",
    "N = 20\n",
    "#N = 1000000\n",
    "for i in range(N):\n",
    "    mc.move()\n",
    "    if (mc.running_state == \"Kitchen\"): counterKitchen += 1\n",
    "    if (mc.running_state == \"Bedroom\"): counterBed += 1\n",
    "    print(\"At time {} the chain is in state {}\".format(mc.steps, mc.running_state))\n",
    "print(\"P[x = Kitchen] = \",counterKitchen/N,\" P[x = Bedroom] = \", counterBed/N)\n",
    "\n",
    "\n"
   ]
  },
  {
   "cell_type": "code",
   "execution_count": null,
   "metadata": {},
   "outputs": [],
   "source": []
  }
 ],
 "metadata": {
  "kernelspec": {
   "display_name": "Python 3",
   "language": "python",
   "name": "python3"
  },
  "language_info": {
   "codemirror_mode": {
    "name": "ipython",
    "version": 3
   },
   "file_extension": ".py",
   "mimetype": "text/x-python",
   "name": "python",
   "nbconvert_exporter": "python",
   "pygments_lexer": "ipython3",
   "version": "3.7.6"
  }
 },
 "nbformat": 4,
 "nbformat_minor": 4
}
